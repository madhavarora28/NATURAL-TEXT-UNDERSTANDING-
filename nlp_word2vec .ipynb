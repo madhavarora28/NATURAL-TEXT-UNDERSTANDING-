{
 "cells": [
  {
   "cell_type": "code",
   "execution_count": 9,
   "id": "100a4f96",
   "metadata": {},
   "outputs": [],
   "source": [
    "import gensim\n",
    "from gensim import corpora\n",
    "from gensim.models import Word2Vec"
   ]
  },
  {
   "cell_type": "code",
   "execution_count": 10,
   "id": "a1f2ff42",
   "metadata": {},
   "outputs": [
    {
     "name": "stdout",
     "output_type": "stream",
     "text": [
      "4.3.0\n"
     ]
    }
   ],
   "source": [
    "import gensim\n",
    "print(gensim.__version__)"
   ]
  },
  {
   "cell_type": "code",
   "execution_count": 11,
   "id": "50173f5b",
   "metadata": {},
   "outputs": [],
   "source": [
    "import numpy as np\n",
    "import pandas as pd"
   ]
  },
  {
   "cell_type": "code",
   "execution_count": 12,
   "id": "f44da9dc",
   "metadata": {
    "scrolled": true
   },
   "outputs": [
    {
     "data": {
      "text/html": [
       "<div>\n",
       "<style scoped>\n",
       "    .dataframe tbody tr th:only-of-type {\n",
       "        vertical-align: middle;\n",
       "    }\n",
       "\n",
       "    .dataframe tbody tr th {\n",
       "        vertical-align: top;\n",
       "    }\n",
       "\n",
       "    .dataframe thead th {\n",
       "        text-align: right;\n",
       "    }\n",
       "</style>\n",
       "<table border=\"1\" class=\"dataframe\">\n",
       "  <thead>\n",
       "    <tr style=\"text-align: right;\">\n",
       "      <th></th>\n",
       "      <th>review</th>\n",
       "      <th>sentiment</th>\n",
       "    </tr>\n",
       "  </thead>\n",
       "  <tbody>\n",
       "    <tr>\n",
       "      <th>0</th>\n",
       "      <td>One of the other reviewers has mentioned that ...</td>\n",
       "      <td>positive</td>\n",
       "    </tr>\n",
       "    <tr>\n",
       "      <th>1</th>\n",
       "      <td>A wonderful little production. &lt;br /&gt;&lt;br /&gt;The...</td>\n",
       "      <td>positive</td>\n",
       "    </tr>\n",
       "    <tr>\n",
       "      <th>2</th>\n",
       "      <td>I thought this was a wonderful way to spend ti...</td>\n",
       "      <td>positive</td>\n",
       "    </tr>\n",
       "    <tr>\n",
       "      <th>3</th>\n",
       "      <td>Basically there's a family where a little boy ...</td>\n",
       "      <td>negative</td>\n",
       "    </tr>\n",
       "    <tr>\n",
       "      <th>4</th>\n",
       "      <td>Petter Mattei's \"Love in the Time of Money\" is...</td>\n",
       "      <td>positive</td>\n",
       "    </tr>\n",
       "    <tr>\n",
       "      <th>...</th>\n",
       "      <td>...</td>\n",
       "      <td>...</td>\n",
       "    </tr>\n",
       "    <tr>\n",
       "      <th>49995</th>\n",
       "      <td>I thought this movie did a down right good job...</td>\n",
       "      <td>positive</td>\n",
       "    </tr>\n",
       "    <tr>\n",
       "      <th>49996</th>\n",
       "      <td>Bad plot, bad dialogue, bad acting, idiotic di...</td>\n",
       "      <td>negative</td>\n",
       "    </tr>\n",
       "    <tr>\n",
       "      <th>49997</th>\n",
       "      <td>I am a Catholic taught in parochial elementary...</td>\n",
       "      <td>negative</td>\n",
       "    </tr>\n",
       "    <tr>\n",
       "      <th>49998</th>\n",
       "      <td>I'm going to have to disagree with the previou...</td>\n",
       "      <td>negative</td>\n",
       "    </tr>\n",
       "    <tr>\n",
       "      <th>49999</th>\n",
       "      <td>No one expects the Star Trek movies to be high...</td>\n",
       "      <td>negative</td>\n",
       "    </tr>\n",
       "  </tbody>\n",
       "</table>\n",
       "<p>50000 rows × 2 columns</p>\n",
       "</div>"
      ],
      "text/plain": [
       "                                                  review sentiment\n",
       "0      One of the other reviewers has mentioned that ...  positive\n",
       "1      A wonderful little production. <br /><br />The...  positive\n",
       "2      I thought this was a wonderful way to spend ti...  positive\n",
       "3      Basically there's a family where a little boy ...  negative\n",
       "4      Petter Mattei's \"Love in the Time of Money\" is...  positive\n",
       "...                                                  ...       ...\n",
       "49995  I thought this movie did a down right good job...  positive\n",
       "49996  Bad plot, bad dialogue, bad acting, idiotic di...  negative\n",
       "49997  I am a Catholic taught in parochial elementary...  negative\n",
       "49998  I'm going to have to disagree with the previou...  negative\n",
       "49999  No one expects the Star Trek movies to be high...  negative\n",
       "\n",
       "[50000 rows x 2 columns]"
      ]
     },
     "execution_count": 12,
     "metadata": {},
     "output_type": "execute_result"
    }
   ],
   "source": [
    "temp_df = pd.read_csv(\"IMDB Dataset.xls\")\n",
    "temp_df"
   ]
  },
  {
   "cell_type": "code",
   "execution_count": 13,
   "id": "341721e3",
   "metadata": {},
   "outputs": [],
   "source": [
    "df = temp_df.iloc[:10000]"
   ]
  },
  {
   "cell_type": "code",
   "execution_count": 14,
   "id": "d1e9d8fc",
   "metadata": {},
   "outputs": [
    {
     "name": "stderr",
     "output_type": "stream",
     "text": [
      "C:\\Users\\HP\\AppData\\Local\\Temp\\ipykernel_11820\\3006716147.py:1: SettingWithCopyWarning: \n",
      "A value is trying to be set on a copy of a slice from a DataFrame\n",
      "\n",
      "See the caveats in the documentation: https://pandas.pydata.org/pandas-docs/stable/user_guide/indexing.html#returning-a-view-versus-a-copy\n",
      "  df.drop_duplicates(inplace=True)\n"
     ]
    }
   ],
   "source": [
    "df.drop_duplicates(inplace=True)"
   ]
  },
  {
   "cell_type": "code",
   "execution_count": 15,
   "id": "6665edbe",
   "metadata": {},
   "outputs": [],
   "source": [
    "import re\n",
    "def remove_tags(raw_text):\n",
    "    cleaned_text=re.sub(re.compile('<,*?>'), '',raw_text)\n",
    "    return cleaned_text"
   ]
  },
  {
   "cell_type": "code",
   "execution_count": 16,
   "id": "3f7d5956",
   "metadata": {},
   "outputs": [
    {
     "name": "stderr",
     "output_type": "stream",
     "text": [
      "C:\\Users\\HP\\AppData\\Local\\Temp\\ipykernel_11820\\2928534252.py:1: SettingWithCopyWarning: \n",
      "A value is trying to be set on a copy of a slice from a DataFrame.\n",
      "Try using .loc[row_indexer,col_indexer] = value instead\n",
      "\n",
      "See the caveats in the documentation: https://pandas.pydata.org/pandas-docs/stable/user_guide/indexing.html#returning-a-view-versus-a-copy\n",
      "  df['review']=df['review'].apply(remove_tags)\n"
     ]
    }
   ],
   "source": [
    "df['review']=df['review'].apply(remove_tags)"
   ]
  },
  {
   "cell_type": "code",
   "execution_count": 17,
   "id": "326b11c5",
   "metadata": {},
   "outputs": [
    {
     "name": "stderr",
     "output_type": "stream",
     "text": [
      "C:\\Users\\HP\\AppData\\Local\\Temp\\ipykernel_11820\\2697927567.py:1: SettingWithCopyWarning: \n",
      "A value is trying to be set on a copy of a slice from a DataFrame.\n",
      "Try using .loc[row_indexer,col_indexer] = value instead\n",
      "\n",
      "See the caveats in the documentation: https://pandas.pydata.org/pandas-docs/stable/user_guide/indexing.html#returning-a-view-versus-a-copy\n",
      "  df['review']=df['review'].apply(lambda x:x.lower())\n"
     ]
    }
   ],
   "source": [
    "df['review']=df['review'].apply(lambda x:x.lower())"
   ]
  },
  {
   "cell_type": "code",
   "execution_count": 18,
   "id": "b1c92091",
   "metadata": {},
   "outputs": [
    {
     "name": "stderr",
     "output_type": "stream",
     "text": [
      "C:\\Users\\HP\\AppData\\Local\\Temp\\ipykernel_11820\\2738062930.py:3: SettingWithCopyWarning: \n",
      "A value is trying to be set on a copy of a slice from a DataFrame.\n",
      "Try using .loc[row_indexer,col_indexer] = value instead\n",
      "\n",
      "See the caveats in the documentation: https://pandas.pydata.org/pandas-docs/stable/user_guide/indexing.html#returning-a-view-versus-a-copy\n",
      "  df['review']=df['review'].apply(lambda x: [item for item in x.split() if item not in sw_list]).apply(lambda x:\" \".join(x))\n"
     ]
    }
   ],
   "source": [
    "from nltk.corpus import stopwords\n",
    "sw_list=stopwords.words('english')\n",
    "df['review']=df['review'].apply(lambda x: [item for item in x.split() if item not in sw_list]).apply(lambda x:\" \".join(x))"
   ]
  },
  {
   "cell_type": "code",
   "execution_count": 19,
   "id": "68758292",
   "metadata": {},
   "outputs": [
    {
     "data": {
      "text/plain": [
       "0       one reviewers mentioned watching 1 oz episode ...\n",
       "1       wonderful little production. <br /><br />the f...\n",
       "2       thought wonderful way spend time hot summer we...\n",
       "3       basically there's family little boy (jake) thi...\n",
       "4       petter mattei's \"love time money\" visually stu...\n",
       "                              ...                        \n",
       "9995    fun, entertaining movie wwii german spy (julie...\n",
       "9996    give break. anyone say \"good hockey movie\"? kn...\n",
       "9997    movie bad movie. watching endless series bad h...\n",
       "9998    movie probably made entertain middle school, e...\n",
       "9999    smashing film film-making. shows intense stran...\n",
       "Name: review, Length: 9983, dtype: object"
      ]
     },
     "execution_count": 19,
     "metadata": {},
     "output_type": "execute_result"
    }
   ],
   "source": [
    "df['review']"
   ]
  },
  {
   "cell_type": "code",
   "execution_count": 20,
   "id": "4a02c246",
   "metadata": {},
   "outputs": [],
   "source": [
    "from nltk import sent_tokenize\n",
    "from gensim.utils import simple_preprocess"
   ]
  },
  {
   "cell_type": "code",
   "execution_count": 21,
   "id": "a7d1eac3",
   "metadata": {},
   "outputs": [],
   "source": [
    "story=[]\n",
    "for doc in df['review']:\n",
    "    raw_sent=sent_tokenize(doc)\n",
    "    for sent in raw_sent:\n",
    "        story.append(simple_preprocess(sent))"
   ]
  },
  {
   "cell_type": "code",
   "execution_count": 22,
   "id": "39580256",
   "metadata": {},
   "outputs": [],
   "source": [
    "model=gensim.models.Word2Vec(\n",
    "    window=10,\n",
    "    min_count=2\n",
    ")"
   ]
  },
  {
   "cell_type": "code",
   "execution_count": 23,
   "id": "470da9e2",
   "metadata": {},
   "outputs": [],
   "source": [
    "model.build_vocab(story)"
   ]
  },
  {
   "cell_type": "code",
   "execution_count": 24,
   "id": "5d4caaaa",
   "metadata": {},
   "outputs": [
    {
     "data": {
      "text/plain": [
       "(5936092, 6424740)"
      ]
     },
     "execution_count": 24,
     "metadata": {},
     "output_type": "execute_result"
    }
   ],
   "source": [
    "model.train(story, total_examples=model.corpus_count, epochs=model.epochs)"
   ]
  },
  {
   "cell_type": "code",
   "execution_count": 25,
   "id": "d307d339",
   "metadata": {},
   "outputs": [
    {
     "data": {
      "text/plain": [
       "31846"
      ]
     },
     "execution_count": 25,
     "metadata": {},
     "output_type": "execute_result"
    }
   ],
   "source": [
    "len(model.wv.index_to_key)"
   ]
  },
  {
   "cell_type": "code",
   "execution_count": 26,
   "id": "1b8b5268",
   "metadata": {},
   "outputs": [],
   "source": [
    "def document_vector(doc):\n",
    "    # remove out-of-vocabulary words\n",
    "    doc=[word for word in doc.split() if word in model.wv.index_to_key]\n",
    "    return np.mean(model.wv[doc], axis=0)"
   ]
  },
  {
   "cell_type": "code",
   "execution_count": 27,
   "id": "e8c3d3ef",
   "metadata": {},
   "outputs": [
    {
     "data": {
      "text/plain": [
       "array([-0.16706185,  0.35965943,  0.03894396,  0.01937195,  0.12901554,\n",
       "       -0.6659902 ,  0.20168662,  0.8519823 , -0.06747704, -0.23905136,\n",
       "       -0.04125547, -0.57372326,  0.0189331 ,  0.2813121 ,  0.03207425,\n",
       "       -0.18095694,  0.26299202, -0.3089436 ,  0.00511205, -0.7009649 ,\n",
       "       -0.11170226,  0.10761684,  0.29364148, -0.00333023,  0.03230974,\n",
       "        0.03595071, -0.3123192 , -0.08550986, -0.39398134, -0.01130691,\n",
       "        0.3693187 ,  0.06210081,  0.22144374, -0.47339234, -0.17231087,\n",
       "        0.47804302,  0.05533222, -0.2711159 , -0.30510142, -0.8199247 ,\n",
       "       -0.17645203, -0.14058545, -0.14125423,  0.08657725,  0.593793  ,\n",
       "       -0.1594115 , -0.30085775, -0.15424618,  0.11381534,  0.11475222,\n",
       "        0.10430777, -0.25519842, -0.32515773, -0.04085213, -0.13094874,\n",
       "        0.09059025,  0.29133332, -0.06062601, -0.43643683,  0.11887036,\n",
       "        0.05506122,  0.04677002, -0.03335215,  0.12861277, -0.5044098 ,\n",
       "        0.2916519 ,  0.11171313,  0.20112707, -0.47389355,  0.47488606,\n",
       "       -0.28036585,  0.13943365,  0.0444226 , -0.12093192,  0.34424922,\n",
       "        0.00114072,  0.15718615, -0.23205811, -0.25173333,  0.06008391,\n",
       "       -0.24075568, -0.12562661, -0.40199056,  0.50266355, -0.05656479,\n",
       "        0.19786711,  0.030561  ,  0.33740848,  0.35788023,  0.2098524 ,\n",
       "        0.25407848,  0.11480266,  0.00157708,  0.30361947,  0.5094376 ,\n",
       "        0.11391569,  0.2072978 , -0.20313542,  0.11101548, -0.17205457],\n",
       "      dtype=float32)"
      ]
     },
     "execution_count": 27,
     "metadata": {},
     "output_type": "execute_result"
    }
   ],
   "source": [
    "document_vector(df['review'].values[0])"
   ]
  },
  {
   "cell_type": "code",
   "execution_count": 28,
   "id": "56f5f62d",
   "metadata": {},
   "outputs": [
    {
     "data": {
      "text/plain": [
       "array([-0.16706185,  0.35965943,  0.03894396,  0.01937195,  0.12901554,\n",
       "       -0.6659902 ,  0.20168662,  0.8519823 , -0.06747704, -0.23905136,\n",
       "       -0.04125547, -0.57372326,  0.0189331 ,  0.2813121 ,  0.03207425,\n",
       "       -0.18095694,  0.26299202, -0.3089436 ,  0.00511205, -0.7009649 ,\n",
       "       -0.11170226,  0.10761684,  0.29364148, -0.00333023,  0.03230974,\n",
       "        0.03595071, -0.3123192 , -0.08550986, -0.39398134, -0.01130691,\n",
       "        0.3693187 ,  0.06210081,  0.22144374, -0.47339234, -0.17231087,\n",
       "        0.47804302,  0.05533222, -0.2711159 , -0.30510142, -0.8199247 ,\n",
       "       -0.17645203, -0.14058545, -0.14125423,  0.08657725,  0.593793  ,\n",
       "       -0.1594115 , -0.30085775, -0.15424618,  0.11381534,  0.11475222,\n",
       "        0.10430777, -0.25519842, -0.32515773, -0.04085213, -0.13094874,\n",
       "        0.09059025,  0.29133332, -0.06062601, -0.43643683,  0.11887036,\n",
       "        0.05506122,  0.04677002, -0.03335215,  0.12861277, -0.5044098 ,\n",
       "        0.2916519 ,  0.11171313,  0.20112707, -0.47389355,  0.47488606,\n",
       "       -0.28036585,  0.13943365,  0.0444226 , -0.12093192,  0.34424922,\n",
       "        0.00114072,  0.15718615, -0.23205811, -0.25173333,  0.06008391,\n",
       "       -0.24075568, -0.12562661, -0.40199056,  0.50266355, -0.05656479,\n",
       "        0.19786711,  0.030561  ,  0.33740848,  0.35788023,  0.2098524 ,\n",
       "        0.25407848,  0.11480266,  0.00157708,  0.30361947,  0.5094376 ,\n",
       "        0.11391569,  0.2072978 , -0.20313542,  0.11101548, -0.17205457],\n",
       "      dtype=float32)"
      ]
     },
     "execution_count": 28,
     "metadata": {},
     "output_type": "execute_result"
    }
   ],
   "source": [
    "document_vector(df['review'].values[0])"
   ]
  },
  {
   "cell_type": "code",
   "execution_count": 29,
   "id": "3e910714",
   "metadata": {},
   "outputs": [],
   "source": [
    "from tqdm import tqdm"
   ]
  },
  {
   "cell_type": "code",
   "execution_count": 30,
   "id": "c3200c59",
   "metadata": {},
   "outputs": [
    {
     "name": "stderr",
     "output_type": "stream",
     "text": [
      "100%|██████████████████████████████████████████████████████████████████████████████| 9983/9983 [28:06<00:00,  5.92it/s]\n"
     ]
    }
   ],
   "source": [
    "X=[]\n",
    "for doc in tqdm(df['review'].values):\n",
    "    X.append(document_vector(doc))"
   ]
  },
  {
   "cell_type": "code",
   "execution_count": 32,
   "id": "d4d684f5",
   "metadata": {},
   "outputs": [],
   "source": [
    "X=np.array(X)"
   ]
  },
  {
   "cell_type": "code",
   "execution_count": 33,
   "id": "fb44f7df",
   "metadata": {},
   "outputs": [
    {
     "data": {
      "text/plain": [
       "array([-0.16706185,  0.35965943,  0.03894396,  0.01937195,  0.12901554,\n",
       "       -0.6659902 ,  0.20168662,  0.8519823 , -0.06747704, -0.23905136,\n",
       "       -0.04125547, -0.57372326,  0.0189331 ,  0.2813121 ,  0.03207425,\n",
       "       -0.18095694,  0.26299202, -0.3089436 ,  0.00511205, -0.7009649 ,\n",
       "       -0.11170226,  0.10761684,  0.29364148, -0.00333023,  0.03230974,\n",
       "        0.03595071, -0.3123192 , -0.08550986, -0.39398134, -0.01130691,\n",
       "        0.3693187 ,  0.06210081,  0.22144374, -0.47339234, -0.17231087,\n",
       "        0.47804302,  0.05533222, -0.2711159 , -0.30510142, -0.8199247 ,\n",
       "       -0.17645203, -0.14058545, -0.14125423,  0.08657725,  0.593793  ,\n",
       "       -0.1594115 , -0.30085775, -0.15424618,  0.11381534,  0.11475222,\n",
       "        0.10430777, -0.25519842, -0.32515773, -0.04085213, -0.13094874,\n",
       "        0.09059025,  0.29133332, -0.06062601, -0.43643683,  0.11887036,\n",
       "        0.05506122,  0.04677002, -0.03335215,  0.12861277, -0.5044098 ,\n",
       "        0.2916519 ,  0.11171313,  0.20112707, -0.47389355,  0.47488606,\n",
       "       -0.28036585,  0.13943365,  0.0444226 , -0.12093192,  0.34424922,\n",
       "        0.00114072,  0.15718615, -0.23205811, -0.25173333,  0.06008391,\n",
       "       -0.24075568, -0.12562661, -0.40199056,  0.50266355, -0.05656479,\n",
       "        0.19786711,  0.030561  ,  0.33740848,  0.35788023,  0.2098524 ,\n",
       "        0.25407848,  0.11480266,  0.00157708,  0.30361947,  0.5094376 ,\n",
       "        0.11391569,  0.2072978 , -0.20313542,  0.11101548, -0.17205457],\n",
       "      dtype=float32)"
      ]
     },
     "execution_count": 33,
     "metadata": {},
     "output_type": "execute_result"
    }
   ],
   "source": [
    "X[0]"
   ]
  },
  {
   "cell_type": "code",
   "execution_count": 34,
   "id": "c1d08930",
   "metadata": {},
   "outputs": [],
   "source": [
    "from sklearn.preprocessing import LabelEncoder\n",
    "encoder=LabelEncoder()\n",
    "\n",
    "y=encoder.fit_transform(df['sentiment'])"
   ]
  },
  {
   "cell_type": "code",
   "execution_count": 35,
   "id": "9e770245",
   "metadata": {},
   "outputs": [
    {
     "data": {
      "text/plain": [
       "array([1, 1, 1, ..., 0, 0, 1])"
      ]
     },
     "execution_count": 35,
     "metadata": {},
     "output_type": "execute_result"
    }
   ],
   "source": [
    "y"
   ]
  },
  {
   "cell_type": "code",
   "execution_count": 36,
   "id": "deea2093",
   "metadata": {},
   "outputs": [],
   "source": [
    "from sklearn.model_selection import train_test_split\n",
    "X_train,X_test,y_train,y_test=train_test_split(X,y,test_size=0.2,random_state=1)"
   ]
  },
  {
   "cell_type": "code",
   "execution_count": 37,
   "id": "e561eded",
   "metadata": {},
   "outputs": [],
   "source": [
    "from sklearn.ensemble import RandomForestClassifier\n",
    "from sklearn.metrics import accuracy_score"
   ]
  },
  {
   "cell_type": "code",
   "execution_count": 38,
   "id": "ac1604a4",
   "metadata": {},
   "outputs": [],
   "source": [
    "rf=RandomForestClassifier\n",
    "Classifier=RandomForestClassifier(n_estimators=100, random_state=42)"
   ]
  },
  {
   "cell_type": "code",
   "execution_count": null,
   "id": "279b0fcd",
   "metadata": {},
   "outputs": [],
   "source": [
    "Classifier.fit(X_train, y_train)\n",
    "y_pred=Classifier.predict(X_test)"
   ]
  },
  {
   "cell_type": "code",
   "execution_count": null,
   "id": "bff4bb9c",
   "metadata": {},
   "outputs": [],
   "source": [
    "accuracy=accuracy_score(y_test, y_pred)\n",
    "print(f\"Accuracy:{accuracy:2f}\")"
   ]
  },
  {
   "cell_type": "code",
   "execution_count": null,
   "id": "740257e1",
   "metadata": {},
   "outputs": [],
   "source": []
  }
 ],
 "metadata": {
  "kernelspec": {
   "display_name": "Python 3 (ipykernel)",
   "language": "python",
   "name": "python3"
  },
  "language_info": {
   "codemirror_mode": {
    "name": "ipython",
    "version": 3
   },
   "file_extension": ".py",
   "mimetype": "text/x-python",
   "name": "python",
   "nbconvert_exporter": "python",
   "pygments_lexer": "ipython3",
   "version": "3.11.5"
  }
 },
 "nbformat": 4,
 "nbformat_minor": 5
}
